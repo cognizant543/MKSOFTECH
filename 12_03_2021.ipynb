{
  "nbformat": 4,
  "nbformat_minor": 0,
  "metadata": {
    "colab": {
      "name": "12-03-2021.ipynb",
      "provenance": [],
      "collapsed_sections": []
    },
    "kernelspec": {
      "name": "python3",
      "display_name": "Python 3"
    }
  },
  "cells": [
    {
      "cell_type": "code",
      "metadata": {
        "colab": {
          "base_uri": "https://localhost:8080/"
        },
        "id": "b7nDlJ-txlvZ",
        "outputId": "b1d308c6-9668-4b80-dd83-f7de2ac9c177"
      },
      "source": [
        "from collections import deque\r\n",
        "s = deque(input('Enter a number : '))\r\n",
        "while len(s)!=0:\r\n",
        "  print(s.pop(),end='')"
      ],
      "execution_count": null,
      "outputs": [
        {
          "output_type": "stream",
          "text": [
            "Enter a number : 789456\n",
            "654987"
          ],
          "name": "stdout"
        }
      ]
    },
    {
      "cell_type": "code",
      "metadata": {
        "id": "04zIcrksxy9U",
        "colab": {
          "base_uri": "https://localhost:8080/"
        },
        "outputId": "d50fc310-4443-470c-ac9d-54781abbc14c"
      },
      "source": [
        "s = deque('123456')\r\n",
        "s.rotate(1)\r\n",
        "s"
      ],
      "execution_count": null,
      "outputs": [
        {
          "output_type": "execute_result",
          "data": {
            "text/plain": [
              "deque(['6', '1', '2', '3', '4', '5'])"
            ]
          },
          "metadata": {
            "tags": []
          },
          "execution_count": 37
        }
      ]
    },
    {
      "cell_type": "code",
      "metadata": {
        "id": "edqxSWc0yr4Z",
        "colab": {
          "base_uri": "https://localhost:8080/"
        },
        "outputId": "d2ca6f23-0da5-4510-8a14-1718392b30c7"
      },
      "source": [
        "from collections import deque\r\n",
        "s = deque(map(int,input('Enter a numbers : ').split()))\r\n",
        "p = set()\r\n",
        "while len(s)>=2:\r\n",
        "  if s[-1]>s[-2]:\r\n",
        "    p.add((s[-1],s[-2]))\r\n",
        "  elif s[-2]>s[-1]:\r\n",
        "    p.add((s[-2],s[-1]))\r\n",
        "  s.pop()\r\n",
        "print(len(p))"
      ],
      "execution_count": null,
      "outputs": [
        {
          "output_type": "stream",
          "text": [
            "Enter a numbers : 1 2 2 4 4\n",
            "2\n"
          ],
          "name": "stdout"
        }
      ]
    },
    {
      "cell_type": "code",
      "metadata": {
        "id": "yo_ld6udy0Hp",
        "colab": {
          "base_uri": "https://localhost:8080/"
        },
        "outputId": "5c3731e4-b595-4e62-c378-c8156f6dc6d9"
      },
      "source": [
        "from collections import deque\r\n",
        "s = deque(input('Enter a string : ').split())\r\n",
        "while len(s)!=0:\r\n",
        "  print(s.pop(),end=' ')"
      ],
      "execution_count": null,
      "outputs": [
        {
          "output_type": "stream",
          "text": [
            "Enter a string : hi hello how are u\n",
            "u are how hello hi "
          ],
          "name": "stdout"
        }
      ]
    },
    {
      "cell_type": "code",
      "metadata": {
        "id": "EjhZPgjs-SpY"
      },
      "source": [
        "q = set\r\n",
        "q.add((1,2))"
      ],
      "execution_count": null,
      "outputs": []
    },
    {
      "cell_type": "code",
      "metadata": {
        "colab": {
          "base_uri": "https://localhost:8080/"
        },
        "id": "MllnXrQE_644",
        "outputId": "8763cb75-f8ea-47eb-f5ac-5ac6a64b0847"
      },
      "source": [
        "q.add((1,2))\r\n",
        "q"
      ],
      "execution_count": null,
      "outputs": [
        {
          "output_type": "execute_result",
          "data": {
            "text/plain": [
              "{(1, 2)}"
            ]
          },
          "metadata": {
            "tags": []
          },
          "execution_count": 48
        }
      ]
    },
    {
      "cell_type": "code",
      "metadata": {
        "colab": {
          "base_uri": "https://localhost:8080/"
        },
        "id": "pgl3NSre_7V3",
        "outputId": "b98d9c7c-6598-4943-b11e-ba44f43ef452"
      },
      "source": [
        "[]==None"
      ],
      "execution_count": null,
      "outputs": [
        {
          "output_type": "execute_result",
          "data": {
            "text/plain": [
              "False"
            ]
          },
          "metadata": {
            "tags": []
          },
          "execution_count": 49
        }
      ]
    },
    {
      "cell_type": "code",
      "metadata": {
        "colab": {
          "base_uri": "https://localhost:8080/"
        },
        "id": "ynOe-gYvAig3",
        "outputId": "ea1434c7-fb0e-4439-e9a5-63410d197917"
      },
      "source": [
        "from collections import deque\r\n",
        "s = deque(map(int,input('Enter a numbers : ').split()))\r\n",
        "while len(s)>1:\r\n",
        "  if abs(s[-2]-s[-1])==1:\r\n",
        "    s.pop()\r\n",
        "  else:\r\n",
        "    print('No')\r\n",
        "    break\r\n",
        "else:\r\n",
        "  print('Yes')"
      ],
      "execution_count": null,
      "outputs": [
        {
          "output_type": "stream",
          "text": [
            "Enter a numbers : 1 2 3 2 1\n",
            "Yes\n"
          ],
          "name": "stdout"
        }
      ]
    },
    {
      "cell_type": "code",
      "metadata": {
        "colab": {
          "base_uri": "https://localhost:8080/"
        },
        "id": "0pDpehkqE6Zi",
        "outputId": "d0595a89-d099-48a0-9da7-23fc5e041977"
      },
      "source": [
        "from collections import deque\r\n",
        "s = input('Enter a string : ')\r\n",
        "stack = deque()\r\n",
        "for i in s:\r\n",
        "  if len(stack)>=1 and stack[-1]==i:\r\n",
        "      stack.pop()\r\n",
        "  else:\r\n",
        "      stack.append(i)\r\n",
        "print(''.join(stack))"
      ],
      "execution_count": null,
      "outputs": [
        {
          "output_type": "stream",
          "text": [
            "Enter a string : aaaabbccdefff\n",
            "def\n"
          ],
          "name": "stdout"
        }
      ]
    },
    {
      "cell_type": "code",
      "metadata": {
        "id": "PQlqdm3SGbTS",
        "colab": {
          "base_uri": "https://localhost:8080/"
        },
        "outputId": "147c4f10-5503-4740-a622-e6cfe1255ca5"
      },
      "source": [
        "from collections import deque\r\n",
        "s = input('Enter a string : ')\r\n",
        "stack = deque(s[:len(s)//2])\r\n",
        "for i in s[len(s)//2 if len(s)%2==0 else len(s)//2+1:]:\r\n",
        "  if stack.pop()!=i:\r\n",
        "    print(\"It is not a palidrome\")\r\n",
        "    break\r\n",
        "else:\r\n",
        "  print(\"It is a palindrome\")"
      ],
      "execution_count": null,
      "outputs": [
        {
          "output_type": "stream",
          "text": [
            "Enter a string : madam\n",
            "It is a palindrome\n"
          ],
          "name": "stdout"
        }
      ]
    },
    {
      "cell_type": "code",
      "metadata": {
        "id": "XGnNAnf7GdMh",
        "colab": {
          "base_uri": "https://localhost:8080/"
        },
        "outputId": "05899eed-6c85-4da6-a99d-60614e3c28cd"
      },
      "source": [
        "from collections import deque\r\n",
        "s1 = deque(input('Enter a elements : ').split())\r\n",
        "s2 = deque()\r\n",
        "for i in range(len(s1)//2+1):\r\n",
        "    s2.append(s1.pop())\r\n",
        "if len(s2)!=0:\r\n",
        "  s2.pop()\r\n",
        "while len(s2)>0:\r\n",
        "  s1.append(s2.pop())\r\n",
        "while len(s1)!=0:\r\n",
        "  print(s1.pop(),end=' ')"
      ],
      "execution_count": null,
      "outputs": [
        {
          "output_type": "stream",
          "text": [
            "Enter a elements :  1 2 3\n",
            "3 1 "
          ],
          "name": "stdout"
        }
      ]
    },
    {
      "cell_type": "code",
      "metadata": {
        "colab": {
          "base_uri": "https://localhost:8080/"
        },
        "id": "eR2ma7J7frk-",
        "outputId": "aa0a6098-d850-420d-e881-27fa3b5f5dd0"
      },
      "source": [
        "from collections import deque\r\n",
        "def isPrime(n):\r\n",
        "  for i in range(2,n):\r\n",
        "    if n%i==0:\r\n",
        "      return False\r\n",
        "  return True\r\n",
        "a = list(map(int,input().split()))\r\n",
        "stack = deque()\r\n",
        "queue = deque()\r\n",
        "for i in a:\r\n",
        "  if isPrime(i):\r\n",
        "    queue.append(i)\r\n",
        "  else:\r\n",
        "    stack.appendleft(i)\r\n",
        "print(*queue)\r\n",
        "print(*stack)"
      ],
      "execution_count": null,
      "outputs": [
        {
          "output_type": "stream",
          "text": [
            "1 2 4 3 6 7 1\n",
            "1 2 3 7 1\n",
            "6 4\n"
          ],
          "name": "stdout"
        }
      ]
    },
    {
      "cell_type": "code",
      "metadata": {
        "colab": {
          "base_uri": "https://localhost:8080/"
        },
        "id": "jtPkfhOslTl7",
        "outputId": "ba5c304f-9cd4-4864-dda8-a226d470b664"
      },
      "source": [
        "l = list(map(int,input().split()))\r\n",
        "k,o = l[0],l[0]\r\n",
        "for i in l[1:]:\r\n",
        "  if i>k:\r\n",
        "    o = o^i\r\n",
        "    k = i\r\n",
        "print(o)"
      ],
      "execution_count": null,
      "outputs": [
        {
          "output_type": "stream",
          "text": [
            "8 6 4 10\n",
            "2\n"
          ],
          "name": "stdout"
        }
      ]
    },
    {
      "cell_type": "code",
      "metadata": {
        "colab": {
          "base_uri": "https://localhost:8080/"
        },
        "id": "38Hac7lhoGbd",
        "outputId": "623d567c-d4e7-4bd0-ed28-ae434f436b30"
      },
      "source": [
        "t = int(input('Enter number test cases: '))\r\n",
        "while t>0:\r\n",
        "  l = list(map(int,input('Enter elements: ').split()))\r\n",
        "  star = 0\r\n",
        "  for i in range(0,len(l)):\r\n",
        "    for j in range(i+1,len(l)):\r\n",
        "      a = sorted(l[i:j+1])\r\n",
        "      b = l[0]|l[1]\r\n",
        "      if b>star:\r\n",
        "        star = b\r\n",
        "  t -= 1"
      ],
      "execution_count": null,
      "outputs": [
        {
          "output_type": "execute_result",
          "data": {
            "text/plain": [
              "5"
            ]
          },
          "metadata": {
            "tags": []
          },
          "execution_count": 118
        }
      ]
    },
    {
      "cell_type": "code",
      "metadata": {
        "colab": {
          "base_uri": "https://localhost:8080/"
        },
        "id": "Juj0w8GqpWmU",
        "outputId": "d9d6dd08-30e5-4a57-cf98-e96d2d112f1d"
      },
      "source": [
        "class node:\r\n",
        "  def __init__(self,data=None):\r\n",
        "    self.data = data\r\n",
        "    self.next = None\r\n",
        "class LinkList:\r\n",
        "  def __init__(self):\r\n",
        "    self.head = None\r\n",
        "  def insertAtEnd(self,data):\r\n",
        "    new_node = node(data)\r\n",
        "    if self.head==None:\r\n",
        "      self.head = new_node\r\n",
        "    else:\r\n",
        "      temp = self.head\r\n",
        "      while temp.next!=None:\r\n",
        "        temp = temp.next\r\n",
        "      temp.next = new_node\r\n",
        "  def traverse(self):\r\n",
        "    temp = self.head\r\n",
        "    while temp!=None:\r\n",
        "      print(temp.data,end = ' ')\r\n",
        "      temp = temp.next\r\n",
        "    print()\r\n",
        "  def traversal(self,m,n):\r\n",
        "    temp = self.head\r\n",
        "    for i in range(m):\r\n",
        "      \r\n",
        "l = LinkList()\r\n",
        "n = int(input('Enter number of nodes: '))\r\n",
        "for i in map(int,input('Enter data').split()):\r\n",
        "  l.insertAtEnd(i)\r\n",
        "m,n = int(input('Enter m: ')),int(input('Enter n:'))\r\n"
      ],
      "execution_count": null,
      "outputs": [
        {
          "output_type": "stream",
          "text": [
            "Enter number of nodes: 5\n",
            "Enter data1 2 3 4 5\n",
            "1 2 3 4 5 \n"
          ],
          "name": "stdout"
        }
      ]
    },
    {
      "cell_type": "code",
      "metadata": {
        "id": "I4wok-FasLL9"
      },
      "source": [
        ""
      ],
      "execution_count": null,
      "outputs": []
    }
  ]
}